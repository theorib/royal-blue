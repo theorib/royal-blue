{
 "cells": [
  {
   "cell_type": "code",
   "execution_count": 1,
   "id": "cfb00552",
   "metadata": {},
   "outputs": [],
   "source": [
    "import pandas as pd\n",
    "from pprint import pprint\n",
    "from datetime import datetime"
   ]
  },
  {
   "cell_type": "code",
   "execution_count": 2,
   "id": "29490730",
   "metadata": {},
   "outputs": [
    {
     "name": "stdout",
     "output_type": "stream",
     "text": [
      "   sales_order_id              created_at            last_updated  design_id  \\\n",
      "0               2 2022-11-03 14:20:52.186 2022-11-03 14:20:52.186          3   \n",
      "1               3 2022-11-03 14:20:52.188 2022-11-03 14:20:52.188          4   \n",
      "\n",
      "   staff_id  counterparty_id  units_sold unit_price  currency_id  \\\n",
      "0        19                8       42972       3.94            2   \n",
      "1        10                4       65839       2.91            3   \n",
      "\n",
      "  agreed_delivery_date agreed_payment_date  agreed_delivery_location_id  \n",
      "0           2022-11-07          2022-11-08                            8  \n",
      "1           2022-11-06          2022-11-07                           19  \n"
     ]
    }
   ],
   "source": [
    "sales_order_df = pd.read_parquet(\n",
    "    \"./test_data/sales_order_2025-6-9_13-11-9_744000.parquet\"\n",
    ")\n",
    "print(sales_order_df.head(2))\n"
   ]
  },
  {
   "cell_type": "code",
   "execution_count": null,
   "id": "9bfbcfc7",
   "metadata": {},
   "outputs": [],
   "source": [
    "def dim_date_dataframe(start_date: str, end_date: str):\n",
    "    all_dates = pd.date_range(start=start_date, end=end_date,,tz=\"Europe/London\", normalize=True)\n",
    "    date_dataframe = pd.DataFrame({\"date_value\": all_dates})\n",
    "\n",
    "    # Create key: YYYYMMDD as INT\n",
    "\n",
    "    date_dataframe[\"year\"] = date_dataframe[\"date_value\"].dt.year\n",
    "    date_dataframe[\"month\"] = date_dataframe[\"date_value\"].dt.month\n",
    "    date_dataframe[\"day\"] = date_dataframe[\"date_value\"].dt.day\n",
    "    date_dataframe[\"day_of_week\"] = date_dataframe[\"date_value\"].dt.weekday + 1\n",
    "    date_dataframe[\"day_name\"] = date_dataframe[\"date_value\"].dt.day_name()\n",
    "    date_dataframe[\"month_name\"] = date_dataframe[\"date_value\"].dt.month_name()\n",
    "    date_dataframe[\"quarter\"] = date_dataframe[\"date_value\"].dt.quarter\n",
    "    date_dataframe[\"date_id\"] = date_dataframe[\"date_value\"].dt.date\n",
    "\n",
    "    date_dataframe = date_dataframe[\n",
    "        [\n",
    "            \"date_id\",\n",
    "            \"year\",\n",
    "            \"month\",\n",
    "            \"day\",\n",
    "            \"day_of_week\",\n",
    "            \"day_name\",\n",
    "            \"month_name\",\n",
    "            \"quarter\",\n",
    "        ]\n",
    "    ]\n",
    "\n",
    "    return date_dataframe"
   ]
  },
  {
   "cell_type": "code",
   "execution_count": 4,
   "id": "b9e4b1f2",
   "metadata": {},
   "outputs": [
    {
     "name": "stdout",
     "output_type": "stream",
     "text": [
      "       date_id  year  month  day  day_of_week   day_name month_name  quarter\n",
      "0   2022-11-02  2022     11    2            3  Wednesday   November        4\n",
      "1   2022-11-03  2022     11    3            4   Thursday   November        4\n",
      "2   2022-11-04  2022     11    4            5     Friday   November        4\n",
      "3   2022-11-05  2022     11    5            6   Saturday   November        4\n",
      "4   2022-11-06  2022     11    6            7     Sunday   November        4\n",
      "5   2022-11-07  2022     11    7            1     Monday   November        4\n",
      "6   2022-11-08  2022     11    8            2    Tuesday   November        4\n",
      "7   2022-11-09  2022     11    9            3  Wednesday   November        4\n",
      "8   2022-11-10  2022     11   10            4   Thursday   November        4\n",
      "9   2022-11-11  2022     11   11            5     Friday   November        4\n",
      "10  2022-11-12  2022     11   12            6   Saturday   November        4\n",
      "11  2022-11-13  2022     11   13            7     Sunday   November        4\n",
      "12  2022-11-14  2022     11   14            1     Monday   November        4\n",
      "13  2022-11-15  2022     11   15            2    Tuesday   November        4\n",
      "14  2022-11-16  2022     11   16            3  Wednesday   November        4\n"
     ]
    }
   ],
   "source": [
    "dim_date = dim_date_dataframe(\"20221102\", \"20500101\")\n",
    "pprint(dim_date.head(15))"
   ]
  },
  {
   "cell_type": "code",
   "execution_count": null,
   "id": "e5c46521",
   "metadata": {},
   "outputs": [
    {
     "name": "stdout",
     "output_type": "stream",
     "text": [
      "       sales_order_id  design_id  staff_id  counterparty_id  units_sold  \\\n",
      "0                   2          3        19                8       42972   \n",
      "1                   3          4        10                4       65839   \n",
      "2                   4          4        10               16       32069   \n",
      "3                   5          7        18                4       49659   \n",
      "4                   6          3        13               18       83908   \n",
      "...               ...        ...       ...              ...         ...   \n",
      "14587           14588         91        18                8       11213   \n",
      "14588           14589        486        11               16       92009   \n",
      "14589           14590        282         4               16       54573   \n",
      "14590           14591        421         7               18       41622   \n",
      "14591           14592        545        12               17       83748   \n",
      "\n",
      "      unit_price  currency_id agreed_delivery_date agreed_payment_date  \\\n",
      "0           3.94            2           2022-11-07          2022-11-08   \n",
      "1           2.91            3           2022-11-06          2022-11-07   \n",
      "2           3.89            2           2022-11-05          2022-11-07   \n",
      "3           2.41            3           2022-11-05          2022-11-08   \n",
      "4           3.99            3           2022-11-04          2022-11-07   \n",
      "...          ...          ...                  ...                 ...   \n",
      "14587       3.43            3           2025-06-11          2025-06-10   \n",
      "14588       2.27            1           2025-06-15          2025-06-10   \n",
      "14589       2.55            3           2025-06-15          2025-06-13   \n",
      "14590       2.52            3           2025-06-14          2025-06-11   \n",
      "14591       2.33            2           2025-06-14          2025-06-11   \n",
      "\n",
      "       agreed_delivery_location_id  sales_record_id created_date  \\\n",
      "0                                8                1   2022-11-03   \n",
      "1                               19                2   2022-11-03   \n",
      "2                               15                3   2022-11-03   \n",
      "3                               25                4   2022-11-03   \n",
      "4                               17                5   2022-11-04   \n",
      "...                            ...              ...          ...   \n",
      "14587                            8            14588   2025-06-09   \n",
      "14588                           28            14589   2025-06-09   \n",
      "14589                            1            14590   2025-06-09   \n",
      "14590                           20            14591   2025-06-09   \n",
      "14591                           29            14592   2025-06-09   \n",
      "\n",
      "      last_updated_date     created_time last_updated_time  \n",
      "0            2022-11-03  14:20:52.186000   14:20:52.186000  \n",
      "1            2022-11-03  14:20:52.188000   14:20:52.188000  \n",
      "2            2022-11-03  14:20:52.188000   14:20:52.188000  \n",
      "3            2022-11-03  14:20:52.186000   14:20:52.186000  \n",
      "4            2022-11-04  11:37:10.341000   11:37:10.341000  \n",
      "...                 ...              ...               ...  \n",
      "14587        2025-06-09  12:09:09.729000   12:09:09.729000  \n",
      "14588        2025-06-09  12:26:10.551000   12:26:10.551000  \n",
      "14589        2025-06-09  12:56:10.174000   12:56:10.174000  \n",
      "14590        2025-06-09  13:10:10.181000   13:10:10.181000  \n",
      "14591        2025-06-09  13:11:09.744000   13:11:09.744000  \n",
      "\n",
      "[14592 rows x 15 columns]\n"
     ]
    }
   ],
   "source": [
    "def create_fact_sales_order_from_df(data_frame: pd.DataFrame) -> pd.DataFrame:\n",
    "    fact_sales_order_df = data_frame.copy()\n",
    "    # Create columns\n",
    "    # fact_sales_order_df[\"sales_record_id\"] = range(1, len(fact_sales_order_df) + 1)\n",
    "\n",
    "    fact_sales_order_df[\"created_date\"] = pd.to_datetime(\n",
    "        fact_sales_order_df[\"created_at\"]\n",
    "    ).dt.date\n",
    "    fact_sales_order_df[\"last_updated_date\"] = pd.to_datetime(\n",
    "        fact_sales_order_df[\"last_updated\"]\n",
    "    ).dt.date\n",
    "    fact_sales_order_df[\"agreed_payment_date\"] = pd.to_datetime(\n",
    "        fact_sales_order_df[\"agreed_payment_date\"]\n",
    "    ).dt.date\n",
    "    fact_sales_order_df[\"agreed_delivery_date\"] = pd.to_datetime(\n",
    "        fact_sales_order_df[\"agreed_delivery_date\"]\n",
    "    ).dt.date\n",
    "\n",
    "    fact_sales_order_df[\"created_time\"] = pd.to_datetime(\n",
    "        fact_sales_order_df[\"created_at\"]\n",
    "    ).dt.time\n",
    "    fact_sales_order_df[\"last_updated_time\"] = pd.to_datetime(\n",
    "        fact_sales_order_df[\"last_updated\"]\n",
    "    ).dt.time\n",
    "\n",
    "    fact_sales_order_df.drop([\"created_at\", \"last_updated\"], axis=1, inplace=True)\n",
    "\n",
    "    return fact_sales_order_df\n",
    "\n",
    "\n",
    "new_df = create_fact_sales_order_from_df(sales_order_df)\n",
    "# pprint(fact_sales_order_df.head(1)['created_date'])\n",
    "# pprint(fact_sales_order_df.columns.tolist())\n",
    "\n",
    "pprint(new_df)"
   ]
  },
  {
   "cell_type": "code",
   "execution_count": 6,
   "id": "bd6744ae",
   "metadata": {},
   "outputs": [],
   "source": [
    "# fact_sales_order_df = fact_sales_order_df.merge(\n",
    "#     dim_date[[\"date_id\"]],\n",
    "#     how=\"left\",\n",
    "#     left_on=\"created_date\",\n",
    "#     right_on=\"date_id\"\n",
    "# ).rename(columns={\"date_id\": \"created_date\"})\n",
    "\n",
    "# pprint(sales_order_df.head(1))\n",
    "\n"
   ]
  },
  {
   "cell_type": "code",
   "execution_count": null,
   "id": "262048eb",
   "metadata": {},
   "outputs": [],
   "source": []
  }
 ],
 "metadata": {
  "kernelspec": {
   "display_name": "royal-blue (3.13.3)",
   "language": "python",
   "name": "python3"
  },
  "language_info": {
   "codemirror_mode": {
    "name": "ipython",
    "version": 3
   },
   "file_extension": ".py",
   "mimetype": "text/x-python",
   "name": "python",
   "nbconvert_exporter": "python",
   "pygments_lexer": "ipython3",
   "version": "3.13.3"
  }
 },
 "nbformat": 4,
 "nbformat_minor": 5
}
