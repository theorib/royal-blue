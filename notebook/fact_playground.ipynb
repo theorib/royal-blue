{
 "cells": [
  {
   "cell_type": "code",
   "execution_count": 242,
   "id": "cfb00552",
   "metadata": {},
   "outputs": [],
   "source": [
    "import pandas as pd\n",
    "from pprint import pprint\n",
    "from datetime import datetime"
   ]
  },
  {
   "cell_type": "code",
   "execution_count": 243,
   "id": "29490730",
   "metadata": {},
   "outputs": [],
   "source": [
    "sales_order_df = pd.read_parquet(\n",
    "    \"./test_data/sales_order_2025-6-9_13-11-9_744000.parquet\"\n",
    ")\n",
    "print(sales_order_df.head(2))\n"
   ]
  },
  {
   "cell_type": "code",
   "execution_count": 244,
   "id": "9bfbcfc7",
   "metadata": {},
   "outputs": [],
   "source": [
    "def dim_date_dataframe(start_date: str, end_date: str):\n",
    "    all_dates = pd.date_range(start=start_date, end=end_date)\n",
    "    date_dataframe = pd.DataFrame({\"date_value\": all_dates})\n",
    "\n",
    "    # Create key: YYYYMMDD as INT\n",
    "    date_dataframe[\"date_id\"] = date_dataframe[\"date_value\"].dt.date\n",
    "\n",
    "    date_dataframe[\"year\"] = date_dataframe[\"date_value\"].dt.year\n",
    "    date_dataframe[\"month\"] = date_dataframe[\"date_value\"].dt.month\n",
    "    date_dataframe[\"day\"] = date_dataframe[\"date_value\"].dt.day\n",
    "    date_dataframe[\"day_of_week\"] = date_dataframe[\"date_value\"].dt.weekday + 1\n",
    "    date_dataframe[\"day_name\"] = date_dataframe[\"date_value\"].dt.day_name()\n",
    "    date_dataframe[\"month_name\"] = date_dataframe[\"date_value\"].dt.month_name()\n",
    "    date_dataframe[\"quarter\"] = date_dataframe[\"date_value\"].dt.quarter\n",
    "\n",
    "    date_dataframe = date_dataframe[\n",
    "        [\n",
    "            \"date_id\",\n",
    "            \"year\",\n",
    "            \"month\",\n",
    "            \"day\",\n",
    "            \"day_of_week\",\n",
    "            \"day_name\",\n",
    "            \"month_name\",\n",
    "            \"quarter\",\n",
    "        ]\n",
    "    ]\n",
    "\n",
    "    return date_dataframe"
   ]
  },
  {
   "cell_type": "code",
   "execution_count": 264,
   "id": "b9e4b1f2",
   "metadata": {},
   "outputs": [],
   "source": [
    "dim_date = dim_date_dataframe(\"20221102\", \"20500101\")\n",
    "pprint(dim_date.head(15))"
   ]
  },
  {
   "cell_type": "code",
   "execution_count": 268,
   "id": "e5c46521",
   "metadata": {},
   "outputs": [],
   "source": [
    "\n",
    "def create_fact_sales_order_from_df(data_frame:pd.DataFrame)->pd.DataFrame:\n",
    "    fact_sales_order_df = data_frame.copy()\n",
    "    # Create columns\n",
    "    fact_sales_order_df[\"sales_record_id\"] = range(1, len(fact_sales_order_df) + 1)\n",
    "\n",
    "    fact_sales_order_df[\"created_date\"] = pd.to_datetime(fact_sales_order_df[\"created_at\"]).dt.date\n",
    "    fact_sales_order_df[\"last_updated_date\"] = pd.to_datetime(fact_sales_order_df[\"last_updated\"]).dt.date\n",
    "    fact_sales_order_df[\"agreed_payment_date\"] = pd.to_datetime(fact_sales_order_df[\"agreed_payment_date\"]).dt.date\n",
    "    fact_sales_order_df[\"agreed_delivery_date\"] = pd.to_datetime(fact_sales_order_df[\"agreed_delivery_date\"]).dt.date\n",
    "\n",
    "\n",
    "    fact_sales_order_df[\"created_time\"] = pd.to_datetime(fact_sales_order_df[\"created_at\"]).dt.time\n",
    "    fact_sales_order_df[\"last_updated_time\"] = pd.to_datetime(fact_sales_order_df[\"last_updated\"]).dt.time\n",
    "\n",
    "    fact_sales_order_df.drop(['created_at', 'last_updated'], axis=1, inplace=True)\n",
    "    return fact_sales_order_df\n",
    "\n",
    "new_df = create_fact_sales_order_from_df(sales_order_df)\n",
    "# pprint(fact_sales_order_df.head(1)['created_date'])\n",
    "# pprint(fact_sales_order_df.columns.tolist())\n",
    "\n",
    "pprint(new_df)"
   ]
  },
  {
   "cell_type": "code",
   "execution_count": null,
   "id": "bd6744ae",
   "metadata": {},
   "outputs": [],
   "source": [
    "# fact_sales_order_df = fact_sales_order_df.merge(\n",
    "#     dim_date[[\"date_id\"]],\n",
    "#     how=\"left\",\n",
    "#     left_on=\"created_date\",\n",
    "#     right_on=\"date_id\"\n",
    "# ).rename(columns={\"date_id\": \"created_date\"})\n",
    "\n",
    "# pprint(sales_order_df.head(1))\n",
    "\n"
   ]
  },
  {
   "cell_type": "code",
   "execution_count": null,
   "id": "262048eb",
   "metadata": {},
   "outputs": [],
   "source": []
  }
 ],
 "metadata": {
  "kernelspec": {
   "display_name": ".venv",
   "language": "python",
   "name": "python3"
  },
  "language_info": {
   "codemirror_mode": {
    "name": "ipython",
    "version": 3
   },
   "file_extension": ".py",
   "mimetype": "text/x-python",
   "name": "python",
   "nbconvert_exporter": "python",
   "pygments_lexer": "ipython3",
   "version": "3.13.2"
  }
 },
 "nbformat": 4,
 "nbformat_minor": 5
}
