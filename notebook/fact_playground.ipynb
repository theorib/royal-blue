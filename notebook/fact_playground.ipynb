{
 "cells": [
  {
   "cell_type": "code",
   "execution_count": 25,
   "id": "cfb00552",
   "metadata": {},
   "outputs": [],
   "source": [
    "import pandas as pd\n",
    "from pprint import pprint\n",
    "from datetime import datetime"
   ]
  },
  {
   "cell_type": "code",
   "execution_count": 61,
   "id": "29490730",
   "metadata": {},
   "outputs": [
    {
     "name": "stdout",
     "output_type": "stream",
     "text": [
      "   sales_order_id              created_at            last_updated  design_id  \\\n",
      "0               2 2022-11-03 14:20:52.186 2022-11-03 14:20:52.186          3   \n",
      "1               3 2022-11-03 14:20:52.188 2022-11-03 14:20:52.188          4   \n",
      "\n",
      "   staff_id  counterparty_id  units_sold unit_price  currency_id  \\\n",
      "0        19                8       42972       3.94            2   \n",
      "1        10                4       65839       2.91            3   \n",
      "\n",
      "  agreed_delivery_date agreed_payment_date  agreed_delivery_location_id  \n",
      "0           2022-11-07          2022-11-08                            8  \n",
      "1           2022-11-06          2022-11-07                           19  \n"
     ]
    }
   ],
   "source": [
    "sales_order_df = pd.read_parquet(\n",
    "    \"./test_data/sales_order_2025-6-9_13-11-9_744000.parquet\"\n",
    ")\n",
    "print(sales_order_df.head(2))\n",
    "# date = sales_order_df[\"last_updated\"][0]\n",
    "\n",
    "dim_date_df = pd.DataFrame({\n",
    "    \"date_id\": pd.Series(dtype=\"int\"),\n",
    "    \"year\": pd.Series(dtype=\"int\"),\n",
    "    \"month\": pd.Series(dtype=\"int\"),\n",
    "    \"day\": pd.Series(dtype=\"int\"),\n",
    "    \"day_of_week\": pd.Series(dtype=\"int\"),\n",
    "    \"day_name\": pd.Series(dtype=\"str\"),\n",
    "    \"month_name\": pd.Series(dtype=\"str\"),\n",
    "    \"quarter\": pd.Series(dtype=\"int\"),\n",
    "})\n"
   ]
  },
  {
   "cell_type": "code",
   "execution_count": null,
   "id": "9bfbcfc7",
   "metadata": {},
   "outputs": [],
   "source": [
    "def dim_date_dataframe(start_date: str, end_date: str):\n",
    "    all_dates = pd.date_range(start=start_date, end=end_date)\n",
    "    date_dataframe = pd.DataFrame({\"date_id\": all_dates})\n",
    "\n",
    "    date_dataframe[\"year\"] = date_dataframe[\"date_id\"].dt.year\n",
    "    date_dataframe[\"month\"] = date_dataframe[\"date_id\"].dt.month\n",
    "    date_dataframe[\"day\"] = date_dataframe[\"date_id\"].dt.day\n",
    "    date_dataframe[\"day_of_week\"] = date_dataframe[\"date_id\"].dt.weekday + 1\n",
    "    date_dataframe[\"day_name\"] = date_dataframe[\"date_id\"].dt.day_name()\n",
    "    date_dataframe[\"month_name\"] = date_dataframe[\"date_id\"].dt.month_name()\n",
    "    date_dataframe[\"quarter\"] = date_dataframe[\"date_id\"].dt.quarter\n",
    "\n",
    "    date_dataframe = date_dataframe[\n",
    "        [\n",
    "            \"date_id\",\n",
    "            \"year\",\n",
    "            \"month\",\n",
    "            \"day\",\n",
    "            \"day_of_week\",\n",
    "            \"day_name\",\n",
    "            \"month_name\",\n",
    "            \"quarter\",\n",
    "        ]\n",
    "    ]\n",
    "\n",
    "    return date_dataframe\n"
   ]
  },
  {
   "cell_type": "code",
   "execution_count": 62,
   "id": "b9e4b1f2",
   "metadata": {},
   "outputs": [
    {
     "name": "stdout",
     "output_type": "stream",
     "text": [
      "{'date_id': {0: Timestamp('2022-11-02 00:00:00'),\n",
      "             1: Timestamp('2022-11-03 00:00:00')},\n",
      " 'day': {0: 2, 1: 3},\n",
      " 'day_name': {0: 'Wednesday', 1: 'Thursday'},\n",
      " 'day_of_week': {0: 3, 1: 4},\n",
      " 'month': {0: 11, 1: 11},\n",
      " 'month_name': {0: 'November', 1: 'November'},\n",
      " 'quarter': {0: 4, 1: 4},\n",
      " 'year': {0: 2022, 1: 2022}}\n"
     ]
    }
   ],
   "source": [
    "# start_date=\"20100101\", end_date=\"20351231\"\n",
    "# some_date = datetime.fromisoformat(dim_date[\"date_id\"][0].isoformat())\n",
    "\n",
    "# dim_date[\"date_id\"].apply(lambda x: datetime.fromisoformat(x.isoformat()))\n",
    "# dim_date[\"date_id\"] = dim_date[\"date_id\"].apply(\n",
    "#     lambda x: datetime.fromtimestamp(x).strftime(\"%Y-%m-%d\")\n",
    "# )\n",
    "# dim_date_converted = dim_date\n",
    "# dim_date convert date_id to datetime\n",
    "# print(dim_date.head(5))\n",
    "# print(type(dim_date[\"date_id\"][0]))\n",
    "# pprint(datetime.now())\n",
    "# pprint(some_date)\n",
    "dim_date = dim_date_dataframe(\"20221102\", \"20500101\")\n",
    "dim_date[\"date_id\"] = pd.to_datetime(dim_date[\"date_id\"])\n",
    "pprint(dim_date.head(2).to_dict(into={\"date_id\": datetime}))"
   ]
  },
  {
   "cell_type": "code",
   "execution_count": null,
   "id": "e5c46521",
   "metadata": {},
   "outputs": [
    {
     "name": "stdout",
     "output_type": "stream",
     "text": [
      "   sales_order_id              created_at            last_updated  design_id  \\\n",
      "0               2 2022-11-03 14:20:52.186 2022-11-03 14:20:52.186          3   \n",
      "1               3 2022-11-03 14:20:52.188 2022-11-03 14:20:52.188          4   \n",
      "\n",
      "   staff_id  counterparty_id  units_sold unit_price  currency_id  \\\n",
      "0        19                8       42972       3.94            2   \n",
      "1        10                4       65839       2.91            3   \n",
      "\n",
      "  agreed_delivery_date agreed_payment_date  agreed_delivery_location_id  \\\n",
      "0           2022-11-07          2022-11-08                            8   \n",
      "1           2022-11-06          2022-11-07                           19   \n",
      "\n",
      "  created_date       last_updated_date  \n",
      "0   2022-11-03 2022-11-03 14:20:52.186  \n",
      "1   2022-11-03 2022-11-03 14:20:52.188  \n"
     ]
    }
   ],
   "source": [
    "sales_order_df[\"created_date\"] = pd.to_datetime(\n",
    "    sales_order_df[\"created_at\"]\n",
    ").dt.normalize()\n",
    "\n",
    "sales_order_df[\"last_updated_date\"] = pd.to_datetime(\n",
    "    sales_order_df[\"last_updated\"]\n",
    ").dt.normalize()\n",
    "sales_order_df[\"agreed_payment_date\"] = pd.to_datetime(\n",
    "    sales_order_df[\"agreed_payment_date\"]\n",
    ").dt.normalize()\n",
    "sales_order_df[\"agreed_delivery_date\"] = pd.to_datetime(\n",
    "    sales_order_df[\"agreed_delivery_date\"]\n",
    ").dt.normalize()\n",
    "\n",
    "pprint(sales_order_df.head(2))"
   ]
  },
  {
   "cell_type": "code",
   "execution_count": 68,
   "id": "bd6744ae",
   "metadata": {},
   "outputs": [
    {
     "name": "stdout",
     "output_type": "stream",
     "text": [
      "   sales_order_id              created_at            last_updated  design_id  \\\n",
      "0               2 2022-11-03 14:20:52.186 2022-11-03 14:20:52.186          3   \n",
      "1               3 2022-11-03 14:20:52.188 2022-11-03 14:20:52.188          4   \n",
      "\n",
      "   staff_id  counterparty_id  units_sold unit_price  currency_id  \\\n",
      "0        19                8       42972       3.94            2   \n",
      "1        10                4       65839       2.91            3   \n",
      "\n",
      "  agreed_delivery_date agreed_payment_date  agreed_delivery_location_id  \\\n",
      "0           2022-11-07          2022-11-08                            8   \n",
      "1           2022-11-06          2022-11-07                           19   \n",
      "\n",
      "  created_date       last_updated_date created_date_id_x created_date_id_y  \n",
      "0   2022-11-03 2022-11-03 14:20:52.186        2022-11-03        2022-11-03  \n",
      "1   2022-11-03 2022-11-03 14:20:52.188        2022-11-03        2022-11-03  \n"
     ]
    }
   ],
   "source": [
    "sales_order_df = sales_order_df.merge(\n",
    "    dim_date[[\"date_id\"]].rename(columns={\"date_id\": \"created_date_id\"}),\n",
    "    how=\"left\",\n",
    "    left_on=\"created_date\",\n",
    "    right_on=\"created_date_id\",\n",
    ")\n",
    "\n",
    "print(sales_order_df.head(2))"
   ]
  }
 ],
 "metadata": {
  "kernelspec": {
   "display_name": "royal-blue (3.13.3)",
   "language": "python",
   "name": "python3"
  },
  "language_info": {
   "codemirror_mode": {
    "name": "ipython",
    "version": 3
   },
   "file_extension": ".py",
   "mimetype": "text/x-python",
   "name": "python",
   "nbconvert_exporter": "python",
   "pygments_lexer": "ipython3",
   "version": "3.13.3"
  }
 },
 "nbformat": 4,
 "nbformat_minor": 5
}
