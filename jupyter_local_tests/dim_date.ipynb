{
 "cells": [
  {
   "cell_type": "code",
   "execution_count": 5,
   "metadata": {},
   "outputs": [],
   "source": [
    "import pandas as pd\n",
    "from pprint import pprint"
   ]
  },
  {
   "cell_type": "code",
   "execution_count": 6,
   "metadata": {},
   "outputs": [],
   "source": [
    "def dim_date_dataframe(start_date: str, end_date: str):\n",
    "    all_dates = pd.date_range(\n",
    "        start=start_date, end=end_date, tz=\"Europe/London\", normalize=True\n",
    "    )\n",
    "    date_dataframe = pd.DataFrame({\"date_value\": all_dates})\n",
    "\n",
    "    date_dataframe[\"year\"] = date_dataframe[\"date_value\"].dt.year\n",
    "    date_dataframe[\"month\"] = date_dataframe[\"date_value\"].dt.month\n",
    "    date_dataframe[\"day\"] = date_dataframe[\"date_value\"].dt.day\n",
    "    date_dataframe[\"day_of_week\"] = date_dataframe[\"date_value\"].dt.weekday + 1\n",
    "    date_dataframe[\"day_name\"] = date_dataframe[\"date_value\"].dt.day_name()\n",
    "    date_dataframe[\"month_name\"] = date_dataframe[\"date_value\"].dt.month_name()\n",
    "    date_dataframe[\"quarter\"] = date_dataframe[\"date_value\"].dt.quarter\n",
    "    date_dataframe[\"date_id\"] = date_dataframe[\"date_value\"].dt.date\n",
    "\n",
    "    date_dataframe = date_dataframe[\n",
    "        [\n",
    "            \"date_id\",\n",
    "            \"year\",\n",
    "            \"month\",\n",
    "            \"day\",\n",
    "            \"day_of_week\",\n",
    "            \"day_name\",\n",
    "            \"month_name\",\n",
    "            \"quarter\",\n",
    "        ]\n",
    "    ]\n",
    "\n",
    "    return date_dataframe"
   ]
  },
  {
   "cell_type": "code",
   "execution_count": 7,
   "metadata": {},
   "outputs": [
    {
     "name": "stdout",
     "output_type": "stream",
     "text": [
      "         date_id  year  month  day  day_of_week   day_name month_name  quarter\n",
      "0     2022-11-02  2022     11    2            3  Wednesday   November        4\n",
      "1     2022-11-03  2022     11    3            4   Thursday   November        4\n",
      "2     2022-11-04  2022     11    4            5     Friday   November        4\n",
      "3     2022-11-05  2022     11    5            6   Saturday   November        4\n",
      "4     2022-11-06  2022     11    6            7     Sunday   November        4\n",
      "...          ...   ...    ...  ...          ...        ...        ...      ...\n",
      "9918  2049-12-28  2049     12   28            2    Tuesday   December        4\n",
      "9919  2049-12-29  2049     12   29            3  Wednesday   December        4\n",
      "9920  2049-12-30  2049     12   30            4   Thursday   December        4\n",
      "9921  2049-12-31  2049     12   31            5     Friday   December        4\n",
      "9922  2050-01-01  2050      1    1            6   Saturday    January        1\n",
      "\n",
      "[9923 rows x 8 columns]\n"
     ]
    }
   ],
   "source": [
    "dim_design_df = dim_date_dataframe(\"20221102\", \"20500101\")\n",
    "pprint(dim_design_df)"
   ]
  }
 ],
 "metadata": {
  "kernelspec": {
   "display_name": ".venv",
   "language": "python",
   "name": "python3"
  },
  "language_info": {
   "codemirror_mode": {
    "name": "ipython",
    "version": 3
   },
   "file_extension": ".py",
   "mimetype": "text/x-python",
   "name": "python",
   "nbconvert_exporter": "python",
   "pygments_lexer": "ipython3",
   "version": "3.13.2"
  }
 },
 "nbformat": 4,
 "nbformat_minor": 2
}
