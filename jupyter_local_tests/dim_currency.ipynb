{
 "cells": [
  {
   "cell_type": "code",
   "execution_count": 1,
   "metadata": {},
   "outputs": [],
   "source": [
    "import pandas as pd\n",
    "from pprint import pprint"
   ]
  },
  {
   "cell_type": "code",
   "execution_count": 2,
   "metadata": {},
   "outputs": [],
   "source": [
    "def dim_currency_dataframe(**dataframes):\n",
    "    try:\n",
    "        currency_lookup = {\n",
    "            \"USD\": \"US Dollar\",\n",
    "            \"EUR\": \"Euro\",\n",
    "            \"GBP\": \"British Pound\",\n",
    "            \"JPY\": \"Japanese Yen\",\n",
    "            \"AUD\": \"Australian Dollar\",\n",
    "            \"CAD\": \"Canadian Dollar\",\n",
    "            \"CHF\": \"Swiss Franc\",\n",
    "            \"CNY\": \"Chinese Yuan\",\n",
    "            \"NZD\": \"New Zealand Dollar\",\n",
    "            \"SEK\": \"Swedish Krona\",\n",
    "            \"NOK\": \"Norwegian Krone\",\n",
    "            \"MXN\": \"Mexican Peso\",\n",
    "            \"INR\": \"Indian Rupee\",\n",
    "            \"BRL\": \"Brazilian Real\",\n",
    "            \"ZAR\": \"South African Rand\",\n",
    "            \"SGD\": \"Singapore Dollar\",\n",
    "            \"HKD\": \"Hong Kong Dollar\",\n",
    "            \"KRW\": \"South Korean Won\",\n",
    "            \"RUB\": \"Russian Ruble\",\n",
    "            \"TRY\": \"Turkish Lira\",\n",
    "        }\n",
    "        required_keys = ['currency']\n",
    "        for key in required_keys:\n",
    "            if key not in dataframes:\n",
    "                raise ValueError(f\"Error: Missing required dataframe '{key}'.\")\n",
    "            \n",
    "        currency_df = dataframes.get(\"currency\")\n",
    "\n",
    "        lookup_df = (\n",
    "            pd.DataFrame.from_dict(\n",
    "                currency_lookup, orient=\"index\", columns=[\"currency_name\"]\n",
    "            )\n",
    "            .reset_index()\n",
    "            .rename(columns={\"index\": \"currency_code\"})\n",
    "        )\n",
    "\n",
    "        currency_df = currency_df.merge(\n",
    "            lookup_df[[\"currency_code\", \"currency_name\"]],\n",
    "            how=\"left\",\n",
    "            on=\"currency_code\",\n",
    "        )\n",
    "\n",
    "        dim_currency = currency_df[[\"currency_id\", \"currency_code\", \"currency_name\"]]\n",
    "        return dim_currency\n",
    "\n",
    "    except Exception as e:\n",
    "        raise e\n"
   ]
  },
  {
   "cell_type": "code",
   "execution_count": null,
   "metadata": {},
   "outputs": [
    {
     "name": "stdout",
     "output_type": "stream",
     "text": [
      "     design_id              created_at design_name  file_location  \\\n",
      "0            8 2022-11-03 14:20:49.962      Wooden           /usr   \n",
      "1           51 2023-01-12 18:50:09.935      Bronze       /private   \n",
      "2           69 2023-02-07 17:31:10.093      Bronze    /lost+found   \n",
      "3           16 2022-11-22 15:02:10.226        Soft        /System   \n",
      "4           54 2023-01-16 09:14:09.775     Plastic     /usr/ports   \n",
      "..         ...                     ...         ...            ...   \n",
      "599        600 2025-06-03 08:10:09.736      Bronze  /etc/defaults   \n",
      "600        601 2025-06-05 16:28:09.815       Steel     /usr/ports   \n",
      "601        602 2025-06-05 16:59:09.875      Rubber           /sys   \n",
      "602        603 2025-06-06 11:29:09.932       Steel   /opt/include   \n",
      "603        604 2025-06-09 12:00:09.793       Steel  /Applications   \n",
      "\n",
      "                      file_name            last_updated  \n",
      "0     wooden-20220717-npgz.json 2022-11-03 14:20:49.962  \n",
      "1     bronze-20221024-4dds.json 2023-01-12 18:50:09.935  \n",
      "2     bronze-20230102-r904.json 2023-02-07 17:31:10.093  \n",
      "3       soft-20211001-cjaz.json 2022-11-22 15:02:10.226  \n",
      "4    plastic-20221206-bw3l.json 2023-01-16 09:14:09.775  \n",
      "..                          ...                     ...  \n",
      "599   bronze-20230904-ihww.json 2025-06-03 08:10:09.736  \n",
      "600    steel-20240925-qsbh.json 2025-06-05 16:28:09.815  \n",
      "601   rubber-20240419-jltq.json 2025-06-05 16:59:09.875  \n",
      "602    steel-20240206-tukd.json 2025-06-06 11:29:09.932  \n",
      "603    steel-20240901-gyw8.json 2025-06-09 12:00:09.793  \n",
      "\n",
      "[604 rows x 6 columns]\n"
     ]
    }
   ],
   "source": [
    "currency_df = pd.read_parquet(\n",
    "    \"../sql_local_tests/seed_data/currency_2022-11-3_14-20-49_962000.parquet\"\n",
    ")\n",
    "pprint(currency_df)"
   ]
  },
  {
   "cell_type": "code",
   "execution_count": null,
   "metadata": {},
   "outputs": [
    {
     "ename": "NameError",
     "evalue": "name 'dim_design_dataframe' is not defined",
     "output_type": "error",
     "traceback": [
      "\u001b[31m---------------------------------------------------------------------------\u001b[39m",
      "\u001b[31mNameError\u001b[39m                                 Traceback (most recent call last)",
      "\u001b[36mCell\u001b[39m\u001b[36m \u001b[39m\u001b[32mIn[4]\u001b[39m\u001b[32m, line 1\u001b[39m\n\u001b[32m----> \u001b[39m\u001b[32m1\u001b[39m dim_design_df = \u001b[43mdim_design_dataframe\u001b[49m(design=design_df)\n\u001b[32m      2\u001b[39m pprint(dim_design_df)\n",
      "\u001b[31mNameError\u001b[39m: name 'dim_design_dataframe' is not defined"
     ]
    }
   ],
   "source": [
    "dim_currency_df = dim_currency_dataframe(currency=currency_df)\n",
    "pprint(dim_currency_df)"
   ]
  }
 ],
 "metadata": {
  "kernelspec": {
   "display_name": ".venv",
   "language": "python",
   "name": "python3"
  },
  "language_info": {
   "codemirror_mode": {
    "name": "ipython",
    "version": 3
   },
   "file_extension": ".py",
   "mimetype": "text/x-python",
   "name": "python",
   "nbconvert_exporter": "python",
   "pygments_lexer": "ipython3",
   "version": "3.13.2"
  }
 },
 "nbformat": 4,
 "nbformat_minor": 2
}
