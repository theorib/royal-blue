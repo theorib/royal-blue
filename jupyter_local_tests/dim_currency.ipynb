{
 "cells": [
  {
   "cell_type": "code",
   "execution_count": 5,
   "metadata": {},
   "outputs": [],
   "source": [
    "import pandas as pd\n",
    "from pprint import pprint"
   ]
  },
  {
   "cell_type": "code",
   "execution_count": 6,
   "metadata": {},
   "outputs": [],
   "source": [
    "def dim_currency_dataframe(**dataframes):\n",
    "    try:\n",
    "        currency_lookup = {\n",
    "            \"USD\": \"US Dollar\",\n",
    "            \"EUR\": \"Euro\",\n",
    "            \"GBP\": \"British Pound\",\n",
    "            \"JPY\": \"Japanese Yen\",\n",
    "            \"AUD\": \"Australian Dollar\",\n",
    "            \"CAD\": \"Canadian Dollar\",\n",
    "            \"CHF\": \"Swiss Franc\",\n",
    "            \"CNY\": \"Chinese Yuan\",\n",
    "            \"NZD\": \"New Zealand Dollar\",\n",
    "            \"SEK\": \"Swedish Krona\",\n",
    "            \"NOK\": \"Norwegian Krone\",\n",
    "            \"MXN\": \"Mexican Peso\",\n",
    "            \"INR\": \"Indian Rupee\",\n",
    "            \"BRL\": \"Brazilian Real\",\n",
    "            \"ZAR\": \"South African Rand\",\n",
    "            \"SGD\": \"Singapore Dollar\",\n",
    "            \"HKD\": \"Hong Kong Dollar\",\n",
    "            \"KRW\": \"South Korean Won\",\n",
    "            \"RUB\": \"Russian Ruble\",\n",
    "            \"TRY\": \"Turkish Lira\",\n",
    "        }\n",
    "        required_keys = [\"currency\"]\n",
    "        for key in required_keys:\n",
    "            if key not in dataframes:\n",
    "                raise ValueError(f\"Error: Missing required dataframe '{key}'.\")\n",
    "\n",
    "        currency_df = dataframes.get(\"currency\")\n",
    "\n",
    "        lookup_df = (\n",
    "            pd.DataFrame.from_dict(\n",
    "                currency_lookup, orient=\"index\", columns=[\"currency_name\"]\n",
    "            )\n",
    "            .reset_index()\n",
    "            .rename(columns={\"index\": \"currency_code\"})\n",
    "        )\n",
    "\n",
    "        currency_df = currency_df.merge(\n",
    "            lookup_df[[\"currency_code\", \"currency_name\"]],\n",
    "            how=\"left\",\n",
    "            on=\"currency_code\",\n",
    "        )\n",
    "\n",
    "        dim_currency = currency_df[[\"currency_id\", \"currency_code\", \"currency_name\"]]\n",
    "        return dim_currency\n",
    "\n",
    "    except Exception as e:\n",
    "        raise e"
   ]
  },
  {
   "cell_type": "code",
   "execution_count": 7,
   "metadata": {},
   "outputs": [
    {
     "name": "stdout",
     "output_type": "stream",
     "text": [
      "   currency_id currency_code              created_at            last_updated\n",
      "0            1           GBP 2022-11-03 14:20:49.962 2022-11-03 14:20:49.962\n",
      "1            2           USD 2022-11-03 14:20:49.962 2022-11-03 14:20:49.962\n",
      "2            3           EUR 2022-11-03 14:20:49.962 2022-11-03 14:20:49.962\n"
     ]
    }
   ],
   "source": [
    "currency_df = pd.read_parquet(\n",
    "    \"../sql_local_tests/seed_data/currency_2022-11-3_14-20-49_962000.parquet\"\n",
    ")\n",
    "pprint(currency_df)"
   ]
  },
  {
   "cell_type": "code",
   "execution_count": 8,
   "metadata": {},
   "outputs": [
    {
     "name": "stdout",
     "output_type": "stream",
     "text": [
      "   currency_id currency_code  currency_name\n",
      "0            1           GBP  British Pound\n",
      "1            2           USD      US Dollar\n",
      "2            3           EUR           Euro\n"
     ]
    }
   ],
   "source": [
    "dim_currency_df = dim_currency_dataframe(currency=currency_df)\n",
    "pprint(dim_currency_df)"
   ]
  }
 ],
 "metadata": {
  "kernelspec": {
   "display_name": ".venv",
   "language": "python",
   "name": "python3"
  },
  "language_info": {
   "codemirror_mode": {
    "name": "ipython",
    "version": 3
   },
   "file_extension": ".py",
   "mimetype": "text/x-python",
   "name": "python",
   "nbconvert_exporter": "python",
   "pygments_lexer": "ipython3",
   "version": "3.13.2"
  }
 },
 "nbformat": 4,
 "nbformat_minor": 2
}
