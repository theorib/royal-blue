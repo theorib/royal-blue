{
 "cells": [
  {
   "cell_type": "code",
   "execution_count": 6,
   "metadata": {},
   "outputs": [],
   "source": [
    "import pandas as pd\n",
    "from pprint import pprint"
   ]
  },
  {
   "cell_type": "code",
   "execution_count": null,
   "metadata": {},
   "outputs": [],
   "source": [
    "import pandas as pd\n",
    "\n",
    "\n",
    "def dim_design_dataframe(**dataframes) -> pd.DataFrame:\n",
    "    \"\"\"\n",
    "    Create the design dimension DataFrame from the extracted raw design data.\n",
    "\n",
    "    Parameters:\n",
    "    -----------\n",
    "    dataframes : dict\n",
    "        Dictionary containing raw DataFrames extracted from source tables.\n",
    "        Must contain a 'design' DataFrame.\n",
    "\n",
    "    Returns:\n",
    "    --------\n",
    "    pd.DataFrame\n",
    "        A DataFrame representing the design dimension with columns:\n",
    "        'design_id', 'design_name', 'file_location', 'file_name'.\n",
    "\n",
    "    Raises:\n",
    "    -------\n",
    "    ValueError\n",
    "        If the 'design' table is missing or any error occurs during transformation.\n",
    "    \"\"\"\n",
    "\n",
    "    required_keys = [\"design\"]\n",
    "\n",
    "    for key in required_keys:\n",
    "        if key not in dataframes:\n",
    "            raise ValueError(f\"Error: Missing required dataframe '{key}'.\")\n",
    "        \n",
    "    design_df = dataframes.get(\"design\")\n",
    "\n",
    "    try:\n",
    "        dim_design = design_df[\n",
    "            [\"design_id\", \"design_name\", \"file_location\", \"file_name\"]\n",
    "        ].drop_duplicates()\n",
    "\n",
    "        return dim_design\n",
    "\n",
    "    except Exception as e:\n",
    "        raise ValueError(f\"Error creating dim_design: {e}\")\n"
   ]
  },
  {
   "cell_type": "code",
   "execution_count": 8,
   "metadata": {},
   "outputs": [
    {
     "name": "stdout",
     "output_type": "stream",
     "text": [
      "     design_id              created_at design_name  file_location  \\\n",
      "0            8 2022-11-03 14:20:49.962      Wooden           /usr   \n",
      "1           51 2023-01-12 18:50:09.935      Bronze       /private   \n",
      "2           69 2023-02-07 17:31:10.093      Bronze    /lost+found   \n",
      "3           16 2022-11-22 15:02:10.226        Soft        /System   \n",
      "4           54 2023-01-16 09:14:09.775     Plastic     /usr/ports   \n",
      "..         ...                     ...         ...            ...   \n",
      "599        600 2025-06-03 08:10:09.736      Bronze  /etc/defaults   \n",
      "600        601 2025-06-05 16:28:09.815       Steel     /usr/ports   \n",
      "601        602 2025-06-05 16:59:09.875      Rubber           /sys   \n",
      "602        603 2025-06-06 11:29:09.932       Steel   /opt/include   \n",
      "603        604 2025-06-09 12:00:09.793       Steel  /Applications   \n",
      "\n",
      "                      file_name            last_updated  \n",
      "0     wooden-20220717-npgz.json 2022-11-03 14:20:49.962  \n",
      "1     bronze-20221024-4dds.json 2023-01-12 18:50:09.935  \n",
      "2     bronze-20230102-r904.json 2023-02-07 17:31:10.093  \n",
      "3       soft-20211001-cjaz.json 2022-11-22 15:02:10.226  \n",
      "4    plastic-20221206-bw3l.json 2023-01-16 09:14:09.775  \n",
      "..                          ...                     ...  \n",
      "599   bronze-20230904-ihww.json 2025-06-03 08:10:09.736  \n",
      "600    steel-20240925-qsbh.json 2025-06-05 16:28:09.815  \n",
      "601   rubber-20240419-jltq.json 2025-06-05 16:59:09.875  \n",
      "602    steel-20240206-tukd.json 2025-06-06 11:29:09.932  \n",
      "603    steel-20240901-gyw8.json 2025-06-09 12:00:09.793  \n",
      "\n",
      "[604 rows x 6 columns]\n"
     ]
    }
   ],
   "source": [
    "design_df = pd.read_parquet(\n",
    "    \"../sql_local_tests/seed_data/design_2025-6-9_12-0-9_793000.parquet\"\n",
    ")\n",
    "pprint(design_df)"
   ]
  },
  {
   "cell_type": "code",
   "execution_count": 9,
   "metadata": {},
   "outputs": [
    {
     "ename": "ValueError",
     "evalue": "Error: Missing required dataframe 'counterparty'.",
     "output_type": "error",
     "traceback": [
      "\u001b[31m---------------------------------------------------------------------------\u001b[39m",
      "\u001b[31mValueError\u001b[39m                                Traceback (most recent call last)",
      "\u001b[36mCell\u001b[39m\u001b[36m \u001b[39m\u001b[32mIn[9]\u001b[39m\u001b[32m, line 1\u001b[39m\n\u001b[32m----> \u001b[39m\u001b[32m1\u001b[39m dim_design_df = \u001b[43mdim_design_dataframe\u001b[49m\u001b[43m(\u001b[49m\u001b[43mdesign\u001b[49m\u001b[43m=\u001b[49m\u001b[43mdesign_df\u001b[49m\u001b[43m)\u001b[49m\n\u001b[32m      2\u001b[39m pprint(dim_design_df)\n",
      "\u001b[36mCell\u001b[39m\u001b[36m \u001b[39m\u001b[32mIn[7]\u001b[39m\u001b[32m, line 27\u001b[39m, in \u001b[36mdim_design_dataframe\u001b[39m\u001b[34m(**dataframes)\u001b[39m\n\u001b[32m     25\u001b[39m \u001b[38;5;28;01mfor\u001b[39;00m key \u001b[38;5;129;01min\u001b[39;00m required_keys:\n\u001b[32m     26\u001b[39m     \u001b[38;5;28;01mif\u001b[39;00m key \u001b[38;5;129;01mnot\u001b[39;00m \u001b[38;5;129;01min\u001b[39;00m dataframes:\n\u001b[32m---> \u001b[39m\u001b[32m27\u001b[39m         \u001b[38;5;28;01mraise\u001b[39;00m \u001b[38;5;167;01mValueError\u001b[39;00m(\u001b[33mf\u001b[39m\u001b[33m\"\u001b[39m\u001b[33mError: Missing required dataframe \u001b[39m\u001b[33m'\u001b[39m\u001b[38;5;132;01m{\u001b[39;00mkey\u001b[38;5;132;01m}\u001b[39;00m\u001b[33m'\u001b[39m\u001b[33m.\u001b[39m\u001b[33m\"\u001b[39m)\n\u001b[32m     29\u001b[39m design_df = dataframes.get(\u001b[33m\"\u001b[39m\u001b[33mdesign\u001b[39m\u001b[33m\"\u001b[39m)\n\u001b[32m     31\u001b[39m \u001b[38;5;28;01mtry\u001b[39;00m:\n",
      "\u001b[31mValueError\u001b[39m: Error: Missing required dataframe 'counterparty'."
     ]
    }
   ],
   "source": [
    "dim_design_df = dim_design_dataframe(design=design_df)\n",
    "pprint(dim_design_df)"
   ]
  }
 ],
 "metadata": {
  "kernelspec": {
   "display_name": ".venv",
   "language": "python",
   "name": "python3"
  },
  "language_info": {
   "codemirror_mode": {
    "name": "ipython",
    "version": 3
   },
   "file_extension": ".py",
   "mimetype": "text/x-python",
   "name": "python",
   "nbconvert_exporter": "python",
   "pygments_lexer": "ipython3",
   "version": "3.13.2"
  }
 },
 "nbformat": 4,
 "nbformat_minor": 2
}
